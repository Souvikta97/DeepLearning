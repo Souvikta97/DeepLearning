{
  "nbformat": 4,
  "nbformat_minor": 0,
  "metadata": {
    "kernelspec": {
      "display_name": "Python 3",
      "language": "python",
      "name": "python3"
    },
    "language_info": {
      "codemirror_mode": {
        "name": "ipython",
        "version": 3
      },
      "file_extension": ".py",
      "mimetype": "text/x-python",
      "name": "python",
      "nbconvert_exporter": "python",
      "pygments_lexer": "ipython3",
      "version": "3.6.1"
    },
    "colab": {
      "name": "AutoEncoders-for-Anomaly-Detection.ipynb",
      "provenance": [],
      "collapsed_sections": [
        "BYHhSpxIuoDB",
        "RQQn1rySuoEL",
        "Lq2hmtHguoFD",
        "6gPhRDGTuoFE"
      ]
    },
    "accelerator": "GPU"
  },
  "cells": [
    {
      "cell_type": "markdown",
      "metadata": {
        "id": "xQY5Xu20uoCb",
        "colab_type": "text"
      },
      "source": [
        "# Neural Networks for Anomaly (Outliers) Detection\n",
        "\n",
        "<img src='outlier_pic.jpg', width = 500, height = 600>\n"
      ]
    },
    {
      "cell_type": "markdown",
      "metadata": {
        "id": "C2t8tAfCuoCc",
        "colab_type": "text"
      },
      "source": [
        "**JADS Career Day (June 14, 2018)**\n",
        "\n",
        "**Practical Info: Data + Jupyter Notebook**\n",
        "    \n",
        "***Github**\n",
        "[https://github.com/abelusha/AutoEncoders-for-Anomaly-Detection\n",
        "    \n",
        "http://nbviewer.jupyter.org/github/abelusha/AutoEncoders-for-Anomaly-Detection/blob/master/AutoEncoders-for-Anomaly-Detection.ipynb"
      ]
    },
    {
      "cell_type": "markdown",
      "metadata": {
        "id": "a02FNJSNuoCd",
        "colab_type": "text"
      },
      "source": [
        "**Agenda:**\n",
        "\n",
        "- **Data Exploration & Preprocessing**\n",
        "- **Model Building**\n",
        "- **Model Evaluation** \n",
        "- **Model Interpretation**\n"
      ]
    },
    {
      "cell_type": "code",
      "metadata": {
        "id": "3drQWN72uoCe",
        "colab_type": "code",
        "colab": {}
      },
      "source": [
        "import warnings\n",
        "warnings.filterwarnings(\"ignore\")"
      ],
      "execution_count": 0,
      "outputs": []
    },
    {
      "cell_type": "code",
      "metadata": {
        "id": "ZHEc7rKlyzUY",
        "colab_type": "code",
        "outputId": "73d7f173-8340-4591-8905-ae6905f7164b",
        "colab": {
          "base_uri": "https://localhost:8080/",
          "height": 170
        }
      },
      "source": [
        "!pip install ann_visualizer"
      ],
      "execution_count": 3,
      "outputs": [
        {
          "output_type": "stream",
          "text": [
            "Collecting ann_visualizer\n",
            "  Downloading https://files.pythonhosted.org/packages/db/51/157be500337fba347e32711aaf9f11c1ba9e1162f486a1d708b4ae594ea4/ann_visualizer-2.5.tar.gz\n",
            "Building wheels for collected packages: ann-visualizer\n",
            "  Building wheel for ann-visualizer (setup.py) ... \u001b[?25l\u001b[?25hdone\n",
            "  Created wheel for ann-visualizer: filename=ann_visualizer-2.5-cp36-none-any.whl size=4169 sha256=b32cf519206673d830cc917709826d82c02489faae43f84228cc683411380858\n",
            "  Stored in directory: /root/.cache/pip/wheels/b6/b4/4e/d92f50c9c4f004cf315a0e0fcd455486bd799c50fe80cf1f5d\n",
            "Successfully built ann-visualizer\n",
            "Installing collected packages: ann-visualizer\n",
            "Successfully installed ann-visualizer-2.5\n"
          ],
          "name": "stdout"
        }
      ]
    },
    {
      "cell_type": "code",
      "metadata": {
        "id": "st90Pftiu2iZ",
        "colab_type": "code",
        "outputId": "483ad7cd-cd95-432e-a1ad-667513dfeae1",
        "colab": {
          "base_uri": "https://localhost:8080/",
          "height": 34
        }
      },
      "source": [
        "import numpy as np\n",
        "import pandas as pd\n",
        "pd.set_option('display.max_columns', None)\n",
        "pd.set_option('display.max_row', None)\n",
        "import matplotlib.pyplot as plt\n",
        "plt.rcdefaults()\n",
        "from pylab import rcParams\n",
        "import seaborn as sns\n",
        "%matplotlib inline\n",
        "import datetime\n",
        "#############\n",
        "####### Deep learning libraries\n",
        "import tensorflow as tf\n",
        "import keras\n",
        "from keras.models import Model, load_model\n",
        "from keras.layers import Input, Dense\n",
        "from keras.callbacks import ModelCheckpoint, TensorBoard\n",
        "from keras import regularizers\n",
        "from ann_visualizer.visualize import ann_viz\n",
        "# \n",
        "from sklearn.preprocessing import  StandardScaler, MinMaxScaler\n",
        "from sklearn.model_selection import train_test_split\n",
        "\n",
        "from sklearn.metrics import (confusion_matrix, classification_report, accuracy_score, roc_auc_score, auc,\n",
        "                             precision_score, recall_score, roc_curve, precision_recall_curve,\n",
        "                             precision_recall_fscore_support, f1_score,\n",
        "                             precision_recall_fscore_support)\n",
        "#\n",
        "from IPython.display import display, Math, Latex\n"
      ],
      "execution_count": 4,
      "outputs": [
        {
          "output_type": "stream",
          "text": [
            "Using TensorFlow backend.\n"
          ],
          "name": "stderr"
        }
      ]
    },
    {
      "cell_type": "markdown",
      "metadata": {
        "id": "BYHhSpxIuoDB",
        "colab_type": "text"
      },
      "source": [
        "# Load Data"
      ]
    },
    {
      "cell_type": "code",
      "metadata": {
        "id": "p03ILEsxuoDC",
        "colab_type": "code",
        "colab": {}
      },
      "source": [
        "df = pd.read_csv('JADS_CarrerDay_Data.csv.xls',index_col=0)\n",
        "df.reset_index(inplace=True, drop= True)"
      ],
      "execution_count": 0,
      "outputs": []
    },
    {
      "cell_type": "markdown",
      "metadata": {
        "id": "RQQn1rySuoEL",
        "colab_type": "text"
      },
      "source": [
        "# Highly Imbalanced Data"
      ]
    },
    {
      "cell_type": "code",
      "metadata": {
        "id": "QLKGfggeuoEU",
        "colab_type": "code",
        "colab": {}
      },
      "source": [
        "numerical_cols = ['V_1', 'V_2', 'V_3', 'V_4', 'V_5', 'V_6', 'V_7', 'V_8', 'V_9']"
      ],
      "execution_count": 0,
      "outputs": []
    },
    {
      "cell_type": "code",
      "metadata": {
        "id": "60EMi4ciuoEd",
        "colab_type": "code",
        "colab": {}
      },
      "source": [
        "labels = df['Label'].astype(int)\n",
        "labels[labels != 0] = 1"
      ],
      "execution_count": 0,
      "outputs": []
    },
    {
      "cell_type": "markdown",
      "metadata": {
        "id": "SlGxbdgkuoEk",
        "colab_type": "text"
      },
      "source": [
        "# Data Exploration"
      ]
    },
    {
      "cell_type": "code",
      "metadata": {
        "id": "BoSPsuix0uxC",
        "colab_type": "code",
        "colab": {}
      },
      "source": [
        "x = df.Label.astype(str).unique().tolist();\n",
        "y =  df.Label.value_counts().tolist();"
      ],
      "execution_count": 0,
      "outputs": []
    },
    {
      "cell_type": "code",
      "metadata": {
        "id": "n1WrdtjS6j-5",
        "colab_type": "code",
        "colab": {}
      },
      "source": [
        "sns.set(style=\"white\", palette=\"muted\", color_codes=True)"
      ],
      "execution_count": 0,
      "outputs": []
    },
    {
      "cell_type": "code",
      "metadata": {
        "id": "EkqvqUxe5uKP",
        "colab_type": "code",
        "colab": {}
      },
      "source": [
        "f, axes = plt.subplots(5, 2, figsize=(8,20))\n",
        "sns.kdeplot(df['V_1'],ax=axes[0,0])\n",
        "sns.kdeplot(df['V_2'],ax=axes[0,1])\n",
        "sns.kdeplot(df['V_3'],ax=axes[1,0])\n",
        "sns.kdeplot(df['V_4'],ax=axes[1,1])\n",
        "sns.kdeplot(df['V_5'],ax=axes[2,0])\n",
        "sns.kdeplot(df['V_6'],ax=axes[2,1])\n",
        "sns.kdeplot(df['V_7'],ax=axes[3,0])\n",
        "sns.kdeplot(df['V_8'],ax=axes[3,1])\n",
        "sns.kdeplot(df['V_9'],ax=axes[4,0])\n",
        "sns.kdeplot(df['Label'],ax=axes[4,1])\n"
      ],
      "execution_count": 0,
      "outputs": []
    },
    {
      "cell_type": "code",
      "metadata": {
        "id": "ItLfKfQHhkx-",
        "colab_type": "code",
        "colab": {}
      },
      "source": [
        "plt.figure(figsize=(10,10))\n",
        "ax = sns.heatmap(df.corr(),cmap=\"YlGnBu\",annot=True)"
      ],
      "execution_count": 0,
      "outputs": []
    },
    {
      "cell_type": "markdown",
      "metadata": {
        "id": "Lq2hmtHguoFD",
        "colab_type": "text"
      },
      "source": [
        "# AutoEncoders\n",
        "\n",
        "- Feed Forward Neural Network model for unsupervised tasks (No Lables)\n",
        "- Model the identity function f(x) ≈  x (It encodes itself)\n",
        "- Simple to undersatnd!\n",
        "- Compress data and learn some features \n",
        "\n",
        "Ref:\n",
        "https://probablydance.com/2016/04/30/neural-networks-are-impressively-good-at-compression/\n",
        "\n",
        "\n",
        "\n",
        "\n",
        "<img src='AutoEncoders.png',>\n",
        "\n",
        "\n",
        "# Reconstruction error\n",
        "\n",
        "\n",
        "min $$L(x, x')  ≈ ||x - x'||^{2}$$"
      ]
    },
    {
      "cell_type": "markdown",
      "metadata": {
        "id": "6gPhRDGTuoFE",
        "colab_type": "text"
      },
      "source": [
        "# Data Preprocessing \n"
      ]
    },
    {
      "cell_type": "code",
      "metadata": {
        "scrolled": true,
        "id": "uy-Ffb8zuoFE",
        "colab_type": "code",
        "colab": {
          "base_uri": "https://localhost:8080/",
          "height": 51
        },
        "outputId": "3f03be36-a178-49cb-9133-53d568befbee"
      },
      "source": [
        "RANDOM_SEED = 101\n",
        "\n",
        "X_train, X_test = train_test_split(df, test_size=0.2, random_state = RANDOM_SEED)\n",
        "\n",
        "X_train = X_train[X_train['Label'] == 0]\n",
        "X_train = X_train.drop(['Label'], axis=1)\n",
        "y_test  = X_test['Label']\n",
        "X_test  = X_test.drop(['Label'], axis=1)\n",
        "X_train = X_train.values\n",
        "X_test  = X_test.values\n",
        "print('Training data size   :', X_train.shape)\n",
        "print('Validation data size :', X_test.shape)"
      ],
      "execution_count": 11,
      "outputs": [
        {
          "output_type": "stream",
          "text": [
            "Training data size   : (3558, 9)\n",
            "Validation data size : (910, 9)\n"
          ],
          "name": "stdout"
        }
      ]
    },
    {
      "cell_type": "markdown",
      "metadata": {
        "id": "xEuBadOVuoFH",
        "colab_type": "text"
      },
      "source": [
        "# Data Scaling"
      ]
    },
    {
      "cell_type": "code",
      "metadata": {
        "id": "p4kDmyyMuoFH",
        "colab_type": "code",
        "colab": {}
      },
      "source": [
        "scaler = MinMaxScaler()\n",
        "X_train_scaled = scaler.fit_transform(X_train)\n",
        "X_test_scaled  = scaler.transform(X_test)"
      ],
      "execution_count": 0,
      "outputs": []
    },
    {
      "cell_type": "markdown",
      "metadata": {
        "id": "vWZ3a5FSuoFK",
        "colab_type": "text"
      },
      "source": [
        "# Modeling"
      ]
    },
    {
      "cell_type": "code",
      "metadata": {
        "id": "-4L9vj-HuoFK",
        "colab_type": "code",
        "colab": {
          "base_uri": "https://localhost:8080/",
          "height": 391
        },
        "outputId": "4be73f2a-68dd-456a-e575-0bf1743a4d5c"
      },
      "source": [
        "# No of Neurons in each Layer [9,6,3,2,3,6,9]\n",
        "input_dim = X_train.shape[1]\n",
        "encoding_dim = 6\n",
        "\n",
        "input_layer = Input(shape=(input_dim, ))\n",
        "encoder = Dense(encoding_dim, activation=\"tanh\",activity_regularizer=regularizers.l1(10e-5))(input_layer)\n",
        "encoder = Dense(int(encoding_dim / 2), activation=\"tanh\")(encoder)\n",
        "encoder = Dense(int(2), activation=\"tanh\")(encoder)\n",
        "decoder = Dense(int(encoding_dim/ 2), activation='tanh')(encoder)\n",
        "decoder = Dense(int(encoding_dim), activation='tanh')(decoder)\n",
        "decoder = Dense(input_dim, activation='tanh')(decoder)\n",
        "autoencoder = Model(inputs=input_layer, outputs=decoder)\n",
        "autoencoder.summary()"
      ],
      "execution_count": 13,
      "outputs": [
        {
          "output_type": "stream",
          "text": [
            "Model: \"model_1\"\n",
            "_________________________________________________________________\n",
            "Layer (type)                 Output Shape              Param #   \n",
            "=================================================================\n",
            "input_1 (InputLayer)         (None, 9)                 0         \n",
            "_________________________________________________________________\n",
            "dense_1 (Dense)              (None, 6)                 60        \n",
            "_________________________________________________________________\n",
            "dense_2 (Dense)              (None, 3)                 21        \n",
            "_________________________________________________________________\n",
            "dense_3 (Dense)              (None, 2)                 8         \n",
            "_________________________________________________________________\n",
            "dense_4 (Dense)              (None, 3)                 9         \n",
            "_________________________________________________________________\n",
            "dense_5 (Dense)              (None, 6)                 24        \n",
            "_________________________________________________________________\n",
            "dense_6 (Dense)              (None, 9)                 63        \n",
            "=================================================================\n",
            "Total params: 185\n",
            "Trainable params: 185\n",
            "Non-trainable params: 0\n",
            "_________________________________________________________________\n"
          ],
          "name": "stdout"
        }
      ]
    },
    {
      "cell_type": "code",
      "metadata": {
        "id": "Jqk3NLUPuoFR",
        "colab_type": "code",
        "colab": {
          "base_uri": "https://localhost:8080/",
          "height": 34
        },
        "outputId": "649cf1f7-5f5d-4543-b98b-a82176e4bd78"
      },
      "source": [
        "nb_epoch = 100\n",
        "batch_size = 50\n",
        "autoencoder.compile(optimizer='adam', loss='mse' )\n",
        "\n",
        "t_ini = datetime.datetime.now()\n",
        "history = autoencoder.fit(X_train_scaled, X_train_scaled,\n",
        "                        epochs=nb_epoch,\n",
        "                        batch_size=batch_size,\n",
        "                        shuffle=True,\n",
        "                        validation_split=0.1,\n",
        "                        verbose=0\n",
        "                        )\n",
        "\n",
        "t_fin = datetime.datetime.now()\n",
        "print('Time to run the model: {} Sec.'.format((t_fin - t_ini).total_seconds()))\n",
        "\n",
        "\n",
        "\n",
        "df_history = pd.DataFrame(history.history)\n",
        "# validation_data=(X_test_scaled, X_test_scaled)"
      ],
      "execution_count": 15,
      "outputs": [
        {
          "output_type": "stream",
          "text": [
            "Time to run the model: 22.366823 Sec.\n"
          ],
          "name": "stdout"
        }
      ]
    },
    {
      "cell_type": "code",
      "metadata": {
        "id": "b3al3RaZ9jKu",
        "colab_type": "code",
        "colab": {}
      },
      "source": [
        "x=df_history.index.tolist();\n",
        "trainloss=df_history['loss'].tolist()\n",
        "valloss=df_history['val_loss'].tolist()"
      ],
      "execution_count": 0,
      "outputs": []
    },
    {
      "cell_type": "code",
      "metadata": {
        "id": "wFqHDkEdrUEr",
        "colab_type": "code",
        "colab": {}
      },
      "source": [
        "df_history"
      ],
      "execution_count": 0,
      "outputs": []
    },
    {
      "cell_type": "code",
      "metadata": {
        "id": "B2zP5reU-Qb_",
        "colab_type": "code",
        "colab": {}
      },
      "source": [
        "plt.figure(figsize=(20,10))\n",
        "plt.plot(x,trainloss,x,valloss)\n",
        "plt.legend()"
      ],
      "execution_count": 0,
      "outputs": []
    },
    {
      "cell_type": "markdown",
      "metadata": {
        "id": "PpRP6hfJuoFX",
        "colab_type": "text"
      },
      "source": [
        "# Predictions & Computing Reconstruction Error"
      ]
    },
    {
      "cell_type": "code",
      "metadata": {
        "id": "yGrllr-PuoFY",
        "colab_type": "code",
        "colab": {
          "base_uri": "https://localhost:8080/",
          "height": 297
        },
        "outputId": "10631bbd-b64b-4595-a5b9-eed134a09801"
      },
      "source": [
        "predictions = autoencoder.predict(X_test_scaled)\n",
        "\n",
        "mse = np.mean(np.power(X_test_scaled - predictions, 2), axis=1)\n",
        "df_error = pd.DataFrame({'reconstruction_error': mse, 'Label': y_test}, index=y_test.index)\n",
        "df_error.describe()\n"
      ],
      "execution_count": 18,
      "outputs": [
        {
          "output_type": "execute_result",
          "data": {
            "text/html": [
              "<div>\n",
              "<style scoped>\n",
              "    .dataframe tbody tr th:only-of-type {\n",
              "        vertical-align: middle;\n",
              "    }\n",
              "\n",
              "    .dataframe tbody tr th {\n",
              "        vertical-align: top;\n",
              "    }\n",
              "\n",
              "    .dataframe thead th {\n",
              "        text-align: right;\n",
              "    }\n",
              "</style>\n",
              "<table border=\"1\" class=\"dataframe\">\n",
              "  <thead>\n",
              "    <tr style=\"text-align: right;\">\n",
              "      <th></th>\n",
              "      <th>reconstruction_error</th>\n",
              "      <th>Label</th>\n",
              "    </tr>\n",
              "  </thead>\n",
              "  <tbody>\n",
              "    <tr>\n",
              "      <th>count</th>\n",
              "      <td>910.000000</td>\n",
              "      <td>910.000000</td>\n",
              "    </tr>\n",
              "    <tr>\n",
              "      <th>mean</th>\n",
              "      <td>0.007047</td>\n",
              "      <td>0.026374</td>\n",
              "    </tr>\n",
              "    <tr>\n",
              "      <th>std</th>\n",
              "      <td>0.008566</td>\n",
              "      <td>0.160332</td>\n",
              "    </tr>\n",
              "    <tr>\n",
              "      <th>min</th>\n",
              "      <td>0.000114</td>\n",
              "      <td>0.000000</td>\n",
              "    </tr>\n",
              "    <tr>\n",
              "      <th>25%</th>\n",
              "      <td>0.001888</td>\n",
              "      <td>0.000000</td>\n",
              "    </tr>\n",
              "    <tr>\n",
              "      <th>50%</th>\n",
              "      <td>0.003849</td>\n",
              "      <td>0.000000</td>\n",
              "    </tr>\n",
              "    <tr>\n",
              "      <th>75%</th>\n",
              "      <td>0.008333</td>\n",
              "      <td>0.000000</td>\n",
              "    </tr>\n",
              "    <tr>\n",
              "      <th>max</th>\n",
              "      <td>0.064540</td>\n",
              "      <td>1.000000</td>\n",
              "    </tr>\n",
              "  </tbody>\n",
              "</table>\n",
              "</div>"
            ],
            "text/plain": [
              "       reconstruction_error       Label\n",
              "count            910.000000  910.000000\n",
              "mean               0.007047    0.026374\n",
              "std                0.008566    0.160332\n",
              "min                0.000114    0.000000\n",
              "25%                0.001888    0.000000\n",
              "50%                0.003849    0.000000\n",
              "75%                0.008333    0.000000\n",
              "max                0.064540    1.000000"
            ]
          },
          "metadata": {
            "tags": []
          },
          "execution_count": 18
        }
      ]
    },
    {
      "cell_type": "code",
      "metadata": {
        "id": "5MVaC-10uoFb",
        "colab_type": "code",
        "colab": {
          "base_uri": "https://localhost:8080/",
          "height": 204
        },
        "outputId": "3cea4a18-faf3-4f42-abe6-136847f3a003"
      },
      "source": [
        "df_error.head()"
      ],
      "execution_count": 19,
      "outputs": [
        {
          "output_type": "execute_result",
          "data": {
            "text/html": [
              "<div>\n",
              "<style scoped>\n",
              "    .dataframe tbody tr th:only-of-type {\n",
              "        vertical-align: middle;\n",
              "    }\n",
              "\n",
              "    .dataframe tbody tr th {\n",
              "        vertical-align: top;\n",
              "    }\n",
              "\n",
              "    .dataframe thead th {\n",
              "        text-align: right;\n",
              "    }\n",
              "</style>\n",
              "<table border=\"1\" class=\"dataframe\">\n",
              "  <thead>\n",
              "    <tr style=\"text-align: right;\">\n",
              "      <th></th>\n",
              "      <th>reconstruction_error</th>\n",
              "      <th>Label</th>\n",
              "    </tr>\n",
              "  </thead>\n",
              "  <tbody>\n",
              "    <tr>\n",
              "      <th>1192</th>\n",
              "      <td>0.000895</td>\n",
              "      <td>0</td>\n",
              "    </tr>\n",
              "    <tr>\n",
              "      <th>2689</th>\n",
              "      <td>0.004476</td>\n",
              "      <td>0</td>\n",
              "    </tr>\n",
              "    <tr>\n",
              "      <th>2351</th>\n",
              "      <td>0.001040</td>\n",
              "      <td>1</td>\n",
              "    </tr>\n",
              "    <tr>\n",
              "      <th>3121</th>\n",
              "      <td>0.001433</td>\n",
              "      <td>0</td>\n",
              "    </tr>\n",
              "    <tr>\n",
              "      <th>4513</th>\n",
              "      <td>0.004792</td>\n",
              "      <td>0</td>\n",
              "    </tr>\n",
              "  </tbody>\n",
              "</table>\n",
              "</div>"
            ],
            "text/plain": [
              "      reconstruction_error  Label\n",
              "1192              0.000895      0\n",
              "2689              0.004476      0\n",
              "2351              0.001040      1\n",
              "3121              0.001433      0\n",
              "4513              0.004792      0"
            ]
          },
          "metadata": {
            "tags": []
          },
          "execution_count": 19
        }
      ]
    },
    {
      "cell_type": "markdown",
      "metadata": {
        "id": "Z6013cYbuoFh",
        "colab_type": "text"
      },
      "source": [
        "# Model Interpretability\n",
        "\n",
        "- Major problem of neural network models is ...?\n",
        "\n",
        "- Contribution of Each dimension to the RE\n"
      ]
    },
    {
      "cell_type": "code",
      "metadata": {
        "id": "Z30f4Wm7uoFi",
        "colab_type": "code",
        "colab": {}
      },
      "source": [
        "# change X_tes_scaled to pandas dataframe\n",
        "data_n = pd.DataFrame(X_test_scaled, index= y_test.index, columns=numerical_cols)"
      ],
      "execution_count": 0,
      "outputs": []
    },
    {
      "cell_type": "code",
      "metadata": {
        "id": "mqn-PGsYuoFk",
        "colab_type": "code",
        "colab": {}
      },
      "source": [
        "def compute_error_per_dim(point):\n",
        "    \n",
        "    initial_pt = np.array(data_n.loc[point,:]).reshape(1,9)\n",
        "    reconstrcuted_pt = autoencoder.predict(initial_pt)\n",
        "    \n",
        "    return abs(np.array(initial_pt  - reconstrcuted_pt)[0])"
      ],
      "execution_count": 0,
      "outputs": []
    },
    {
      "cell_type": "code",
      "metadata": {
        "id": "DxNF98QwyL5J",
        "colab_type": "code",
        "colab": {
          "base_uri": "https://localhost:8080/",
          "height": 119
        },
        "outputId": "da75e573-1929-42ab-9b95-3c1fc4a9dd7b"
      },
      "source": [
        "df_error.query('-0.01 > reconstruction_error or reconstruction_error> 0.024').index"
      ],
      "execution_count": 48,
      "outputs": [
        {
          "output_type": "execute_result",
          "data": {
            "text/plain": [
              "Int64Index([1719, 1538, 3930, 2499, 3964, 1528, 1595, 3945, 1473, 1624, 1453,\n",
              "            1490, 2551, 1636, 3985, 1695, 2552, 1596, 2773, 1486, 3963, 4225,\n",
              "            1447, 1398, 1469, 1630, 1459, 2143, 1489, 4220, 1448, 1638, 1470,\n",
              "            1529, 1434, 1541, 2779, 1634, 1429, 2768, 3976, 2780, 1705, 3020,\n",
              "            1407,   37, 2775, 1424, 1463, 2749],\n",
              "           dtype='int64')"
            ]
          },
          "metadata": {
            "tags": []
          },
          "execution_count": 48
        }
      ]
    },
    {
      "cell_type": "code",
      "metadata": {
        "id": "lULqjlofuoFp",
        "colab_type": "code",
        "colab": {}
      },
      "source": [
        "outliers = df_error.query('-0.01 > reconstruction_error or reconstruction_error> 0.024').index.tolist()"
      ],
      "execution_count": 0,
      "outputs": []
    },
    {
      "cell_type": "code",
      "metadata": {
        "id": "xcKZCMJUuoFt",
        "colab_type": "code",
        "colab": {}
      },
      "source": [
        "outliers"
      ],
      "execution_count": 0,
      "outputs": []
    },
    {
      "cell_type": "code",
      "metadata": {
        "id": "r1JBlvfmwrBe",
        "colab_type": "code",
        "colab": {
          "base_uri": "https://localhost:8080/",
          "height": 34
        },
        "outputId": "613a0bbc-b6ab-41e2-d9f5-0f2b0ea46d6c"
      },
      "source": [
        "len(outliers)"
      ],
      "execution_count": 51,
      "outputs": [
        {
          "output_type": "execute_result",
          "data": {
            "text/plain": [
              "50"
            ]
          },
          "metadata": {
            "tags": []
          },
          "execution_count": 51
        }
      ]
    },
    {
      "cell_type": "code",
      "metadata": {
        "id": "BHtH01TOuoFx",
        "colab_type": "code",
        "colab": {}
      },
      "source": [
        "RE_per_dim = {}\n",
        "for ind in outliers:\n",
        "    RE_per_dim[ind] = compute_error_per_dim(ind)\n",
        "    \n",
        "RE_per_dim = pd.DataFrame(RE_per_dim, index= numerical_cols).T"
      ],
      "execution_count": 0,
      "outputs": []
    },
    {
      "cell_type": "code",
      "metadata": {
        "id": "2mP5JXVDuoF1",
        "colab_type": "code",
        "colab": {
          "base_uri": "https://localhost:8080/",
          "height": 204
        },
        "outputId": "da254189-06fc-453c-f177-193da307dff6"
      },
      "source": [
        "RE_per_dim.head()\n"
      ],
      "execution_count": 53,
      "outputs": [
        {
          "output_type": "execute_result",
          "data": {
            "text/html": [
              "<div>\n",
              "<style scoped>\n",
              "    .dataframe tbody tr th:only-of-type {\n",
              "        vertical-align: middle;\n",
              "    }\n",
              "\n",
              "    .dataframe tbody tr th {\n",
              "        vertical-align: top;\n",
              "    }\n",
              "\n",
              "    .dataframe thead th {\n",
              "        text-align: right;\n",
              "    }\n",
              "</style>\n",
              "<table border=\"1\" class=\"dataframe\">\n",
              "  <thead>\n",
              "    <tr style=\"text-align: right;\">\n",
              "      <th></th>\n",
              "      <th>V_1</th>\n",
              "      <th>V_2</th>\n",
              "      <th>V_3</th>\n",
              "      <th>V_4</th>\n",
              "      <th>V_5</th>\n",
              "      <th>V_6</th>\n",
              "      <th>V_7</th>\n",
              "      <th>V_8</th>\n",
              "      <th>V_9</th>\n",
              "    </tr>\n",
              "  </thead>\n",
              "  <tbody>\n",
              "    <tr>\n",
              "      <th>1719</th>\n",
              "      <td>0.011773</td>\n",
              "      <td>0.011710</td>\n",
              "      <td>0.067756</td>\n",
              "      <td>0.190818</td>\n",
              "      <td>0.001308</td>\n",
              "      <td>0.249307</td>\n",
              "      <td>0.139603</td>\n",
              "      <td>0.307976</td>\n",
              "      <td>0.002432</td>\n",
              "    </tr>\n",
              "    <tr>\n",
              "      <th>1538</th>\n",
              "      <td>0.011400</td>\n",
              "      <td>0.018504</td>\n",
              "      <td>0.038517</td>\n",
              "      <td>0.337264</td>\n",
              "      <td>0.005597</td>\n",
              "      <td>0.223613</td>\n",
              "      <td>0.148976</td>\n",
              "      <td>0.290179</td>\n",
              "      <td>0.068498</td>\n",
              "    </tr>\n",
              "    <tr>\n",
              "      <th>3930</th>\n",
              "      <td>0.018682</td>\n",
              "      <td>0.009196</td>\n",
              "      <td>0.155996</td>\n",
              "      <td>0.318497</td>\n",
              "      <td>0.002338</td>\n",
              "      <td>0.077072</td>\n",
              "      <td>0.190314</td>\n",
              "      <td>0.184904</td>\n",
              "      <td>0.120485</td>\n",
              "    </tr>\n",
              "    <tr>\n",
              "      <th>2499</th>\n",
              "      <td>0.003153</td>\n",
              "      <td>0.012736</td>\n",
              "      <td>0.119792</td>\n",
              "      <td>0.334119</td>\n",
              "      <td>0.000984</td>\n",
              "      <td>0.130576</td>\n",
              "      <td>0.161631</td>\n",
              "      <td>0.213433</td>\n",
              "      <td>0.040527</td>\n",
              "    </tr>\n",
              "    <tr>\n",
              "      <th>3964</th>\n",
              "      <td>0.028653</td>\n",
              "      <td>0.010022</td>\n",
              "      <td>0.178199</td>\n",
              "      <td>0.342817</td>\n",
              "      <td>0.002211</td>\n",
              "      <td>0.154786</td>\n",
              "      <td>0.176234</td>\n",
              "      <td>0.139346</td>\n",
              "      <td>0.160564</td>\n",
              "    </tr>\n",
              "  </tbody>\n",
              "</table>\n",
              "</div>"
            ],
            "text/plain": [
              "           V_1       V_2       V_3       V_4       V_5       V_6       V_7  \\\n",
              "1719  0.011773  0.011710  0.067756  0.190818  0.001308  0.249307  0.139603   \n",
              "1538  0.011400  0.018504  0.038517  0.337264  0.005597  0.223613  0.148976   \n",
              "3930  0.018682  0.009196  0.155996  0.318497  0.002338  0.077072  0.190314   \n",
              "2499  0.003153  0.012736  0.119792  0.334119  0.000984  0.130576  0.161631   \n",
              "3964  0.028653  0.010022  0.178199  0.342817  0.002211  0.154786  0.176234   \n",
              "\n",
              "           V_8       V_9  \n",
              "1719  0.307976  0.002432  \n",
              "1538  0.290179  0.068498  \n",
              "3930  0.184904  0.120485  \n",
              "2499  0.213433  0.040527  \n",
              "3964  0.139346  0.160564  "
            ]
          },
          "metadata": {
            "tags": []
          },
          "execution_count": 53
        }
      ]
    },
    {
      "cell_type": "code",
      "metadata": {
        "id": "v1ba63QiuoF5",
        "colab_type": "code",
        "colab": {
          "base_uri": "https://localhost:8080/",
          "height": 609
        },
        "outputId": "98660415-4f4f-4029-de7a-0974f3012334"
      },
      "source": [
        "plt.figure(figsize=(18,10))\n",
        "sns.heatmap(RE_per_dim.head(),cmap='YlGnBu')"
      ],
      "execution_count": 58,
      "outputs": [
        {
          "output_type": "execute_result",
          "data": {
            "text/plain": [
              "<matplotlib.axes._subplots.AxesSubplot at 0x7f719a07e9b0>"
            ]
          },
          "metadata": {
            "tags": []
          },
          "execution_count": 58
        },
        {
          "output_type": "display_data",
          "data": {
            "image/png": "[encoded data removed]",
            "text/plain": [
              "<Figure size 1296x720 with 2 Axes>"
            ]
          },
          "metadata": {
            "tags": [],
            "needs_background": "light"
          }
        }
      ]
    }
  ]
}